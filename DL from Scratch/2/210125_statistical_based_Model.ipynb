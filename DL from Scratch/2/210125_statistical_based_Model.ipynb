{
  "nbformat": 4,
  "nbformat_minor": 0,
  "metadata": {
    "colab": {
      "name": "210125_statistical-based Model.ipynb",
      "provenance": [],
      "collapsed_sections": [],
      "authorship_tag": "ABX9TyNS99ovmqKdb9m7+yifsJss",
      "include_colab_link": true
    },
    "kernelspec": {
      "name": "python3",
      "display_name": "Python 3"
    }
  },
  "cells": [
    {
      "cell_type": "markdown",
      "metadata": {
        "id": "view-in-github",
        "colab_type": "text"
      },
      "source": [
        "<a href=\"https://colab.research.google.com/github/ownit4137/TIL/blob/main/DL%20from%20Scratch/2/210125_statistical_based_Model.ipynb\" target=\"_parent\"><img src=\"https://colab.research.google.com/assets/colab-badge.svg\" alt=\"Open In Colab\"/></a>"
      ]
    },
    {
      "cell_type": "code",
      "metadata": {
        "colab": {
          "base_uri": "https://localhost:8080/"
        },
        "id": "yYmbzuvXy7Sh",
        "outputId": "58a3bb2b-8e22-42ee-f009-8a57b1745686"
      },
      "source": [
        "from google.colab import drive \r\n",
        "drive.mount('/content/gdrive/')\r\n",
        "\r\n",
        "%cd /content/gdrive/MyDrive/'Colab Notebooks'/"
      ],
      "execution_count": 31,
      "outputs": [
        {
          "output_type": "stream",
          "text": [
            "Drive already mounted at /content/gdrive/; to attempt to forcibly remount, call drive.mount(\"/content/gdrive/\", force_remount=True).\n",
            "/content/gdrive/MyDrive/Colab Notebooks\n"
          ],
          "name": "stdout"
        }
      ]
    },
    {
      "cell_type": "code",
      "metadata": {
        "id": "1RpCWxkxDHsv"
      },
      "source": [
        "import numpy as np\r\n",
        "import matplotlib.pyplot as plt"
      ],
      "execution_count": 18,
      "outputs": []
    },
    {
      "cell_type": "markdown",
      "metadata": {
        "id": "u-nCGn0u9u3i"
      },
      "source": [
        "# 자연어 처리\r\n",
        "\r\n",
        "- 사람의 말을 컴퓨터가 이해하도록 만드는 것\r\n",
        "- 질의응답 시스템, IME, 문장 자동 요약, 감정분석 등에 사용됨\r\n",
        "- 자연어 처리의 기초적인 단계인 단어 의미 파악에는 thesaurus, 통계 기반 기법, 추론 기반 기법 등이 있음"
      ]
    },
    {
      "cell_type": "markdown",
      "metadata": {
        "id": "vZSax1oj_rlu"
      },
      "source": [
        "## Thesaurus(유의어 사전)\r\n",
        "\r\n",
        "- 사람이 직접 단어의 의미를 미리 정해 놓음\r\n",
        "- 모든 단어에 대해 유의어 집합을 만든 다음에, 단어의 관계를 그래프로 표현\r\n",
        "- 가장 유명한 thesaurus중 하나는 **WordNet**, 방대한 단어 네트워크가 존재함\r\n",
        "- 시대의 변화에 대응하기 어렵고, thesaurus를 만드는데 비용이 많이 듦, 단어간의 미묘한 차이를 표현할 수 없음\r\n",
        "\r\n",
        "## 통계 기반\r\n",
        "\r\n",
        "- corpus(말뭉치: 대량의 텍스트 데이터)를 분석하여 의미를 추출하는 것\r\n",
        "- **distributional hypothesis**(분포 가설: 단어의 의미는 주변 단어에 의해 형성됨)에 따라 단어를 벡터로 표현함\r\n",
        "\r\n"
      ]
    },
    {
      "cell_type": "code",
      "metadata": {
        "id": "6UUxtQF3zefh"
      },
      "source": [
        "def preprocess(text):\r\n",
        "  text = text.lower()\r\n",
        "  text = text.replace('.', ' .')\r\n",
        "  words = text.split(' ')\r\n",
        "\r\n",
        "  word_to_id = {}\r\n",
        "  id_to_word = {}\r\n",
        "  for word in words:\r\n",
        "    if word not in word_to_id:\r\n",
        "      new_id = len(word_to_id)\r\n",
        "      word_to_id[word] = new_id\r\n",
        "      id_to_word[new_id] = word\r\n",
        "\r\n",
        "  corpus = np.array([word_to_id[w] for w in words])\r\n",
        "  return corpus, word_to_id, id_to_word"
      ],
      "execution_count": 2,
      "outputs": []
    },
    {
      "cell_type": "code",
      "metadata": {
        "colab": {
          "base_uri": "https://localhost:8080/"
        },
        "id": "Z1Lk3jTHC896",
        "outputId": "a7049226-82bc-4070-c600-e36f64d06d96"
      },
      "source": [
        "text = 'You say goodbye and I say hello.'\r\n",
        "corpus, word_to_id, id_to_word = preprocess(text)\r\n",
        "print(corpus)\r\n",
        "print(word_to_id)"
      ],
      "execution_count": 5,
      "outputs": [
        {
          "output_type": "stream",
          "text": [
            "[0 1 2 3 4 1 5 6]\n",
            "{'you': 0, 'say': 1, 'goodbye': 2, 'and': 3, 'i': 4, 'hello': 5, '.': 6}\n"
          ],
          "name": "stdout"
        }
      ]
    },
    {
      "cell_type": "markdown",
      "metadata": {
        "id": "BLQ7P-Q1DWvy"
      },
      "source": [
        "- 맥락(특정 단어를 중심으로 할 때 그 주변 단어들)을 기록함, 윈도우 크기에 따른 맥락을 결정\r\n",
        "- 맥락은 단어들을 벡터로 표현하여 나타낼 수 있음\r\n",
        "- 모든 단어에 대해 맥락을 기록한 것이 **co-occurance matrix**(동시발생 행렬)"
      ]
    },
    {
      "cell_type": "code",
      "metadata": {
        "colab": {
          "base_uri": "https://localhost:8080/"
        },
        "id": "ucwCzmdoEEEB",
        "outputId": "3cc9a576-33df-4bde-8847-1aec168f13bd"
      },
      "source": [
        "def create_co_matrix(corpus, vocab_size, window_size=1):\r\n",
        "  corpus_size = len(corpus)\r\n",
        "  co_matrix = np.zeros((vocab_size, vocab_size), dtype=np.int32)\r\n",
        "\r\n",
        "  for idx, word_id in enumerate(corpus):\r\n",
        "    for i in range(1, window_size + 1):\r\n",
        "      left = idx - i\r\n",
        "      right = idx + i\r\n",
        "\r\n",
        "      if left >= 0:\r\n",
        "        left_word_id = corpus[left]\r\n",
        "        co_matrix[word_id, left_word_id] += 1\r\n",
        "\r\n",
        "      if right < corpus_size:\r\n",
        "        right_word_id = corpus[right]\r\n",
        "        co_matrix[word_id, right_word_id] += 1\r\n",
        "    \r\n",
        "  return co_matrix\r\n",
        "\r\n",
        "co_matrix = create_co_matrix(corpus, len(word_to_id))\r\n",
        "print(co_matrix)"
      ],
      "execution_count": 6,
      "outputs": [
        {
          "output_type": "stream",
          "text": [
            "[[0 1 0 0 0 0 0]\n",
            " [1 0 1 0 1 1 0]\n",
            " [0 1 0 1 0 0 0]\n",
            " [0 0 1 0 1 0 0]\n",
            " [0 1 0 1 0 0 0]\n",
            " [0 1 0 0 0 0 1]\n",
            " [0 0 0 0 0 1 0]]\n"
          ],
          "name": "stdout"
        }
      ]
    },
    {
      "cell_type": "markdown",
      "metadata": {
        "id": "tlWFdtw4HAji"
      },
      "source": [
        "- 단어 벡터가 구해졌으므로(co-occurance matrix의 row), 벡터 간 유사도를 표현할 수 있음\r\n",
        "- 대표적인 유사도 표현은 코사인 유사도(벡터 사잇각)\r\n",
        "- similarity(x, y) = $\\cfrac{x \\cdot y}{  \\| x \\|  \\| y \\|  } $\r\n",
        "- 분모는 L2 norm(the length of a vector in Euclidean space)\r\n"
      ]
    },
    {
      "cell_type": "code",
      "metadata": {
        "colab": {
          "base_uri": "https://localhost:8080/"
        },
        "id": "HruOyE22Io1Z",
        "outputId": "b0def8db-7abf-40bf-c353-961b5ede507e"
      },
      "source": [
        "def cos_similarity(x, y, eps=1e-8):\r\n",
        "  nx = x / np.sqrt(np.sum(x**2 + eps))  # DivideByZero Error\r\n",
        "  ny = y / np.sqrt(np.sum(y**2 + eps))\r\n",
        "  return np.dot(nx, ny)\r\n",
        "\r\n",
        "c0 = co_matrix[word_to_id['you']]\r\n",
        "c1 = co_matrix[word_to_id['i']]\r\n",
        "print(cos_similarity(c0, c1))"
      ],
      "execution_count": 7,
      "outputs": [
        {
          "output_type": "stream",
          "text": [
            "0.7071067440634439\n"
          ],
          "name": "stdout"
        }
      ]
    },
    {
      "cell_type": "code",
      "metadata": {
        "id": "8UCr2N_3xAkE"
      },
      "source": [
        "def most_similar(query, wti, itw, word_matrix):\r\n",
        "  print(query)\r\n",
        "  query_id = wti[query]\r\n",
        "  query_vec = word_matrix[query_id]\r\n",
        "\r\n",
        "  vocab_size = len(itw)\r\n",
        "  similarity = np.zeros(vocab_size)\r\n",
        "  for i in range(vocab_size):\r\n",
        "    similarity[i] = cos_similarity(word_matrix[i], query_vec)\r\n",
        "\r\n",
        "  for count in range(5):\r\n",
        "    for i in (-1 * similarity).argsort():   # 내림차순(-1이 곱해짐) 정렬 후 인덱스 반환\r\n",
        "      if itw[id] == query:\r\n",
        "        continue\r\n",
        "      print(itw[i], similarity[i])\r\n",
        "  print()"
      ],
      "execution_count": 36,
      "outputs": []
    },
    {
      "cell_type": "markdown",
      "metadata": {
        "id": "3xouWWG9k5qK"
      },
      "source": [
        "- 단순 출현 빈도로만 분석한다면 결론이 잘못 도출될 수 있음\r\n",
        "  - 말뭉치에서 the와 car은 높은 확률로 동시에 출현하므로 the와 car는 관계가 깊다 (x)\r\n",
        "- 이를 해결하기 위해 점별 상호정보량(Pointwise Mutual Info)를 사용\r\n",
        "- PMI(x, y) = $\\log_2 \\cfrac{P(x, y)}{  P(x)P(y)  } = \\log_2 \\cfrac{C(x, y) \\cdot N}{  C(x)C(y)  } $\r\n",
        "- $P(x)$ 는 $x$가 일어날 확률($C(x) / N$), $P(x, y)$는 $x$와 $y$가 동시에 일어날 확률 -> **단독으로 출현하는 횟수를 고려해줌**\r\n",
        "- 코드에서는 양의 상호정보량(PPMI = max(0, PMI))을 사용 "
      ]
    },
    {
      "cell_type": "code",
      "metadata": {
        "colab": {
          "base_uri": "https://localhost:8080/"
        },
        "id": "cPIzH35JnSQc",
        "outputId": "87bd3e2f-f597-45ea-ec68-ebb25850e9e0"
      },
      "source": [
        "def ppmi(co_matrix, verbose=False, eps=1e-8):\r\n",
        "  ppmi_mat = np.zeros_like(co_matrix, dtype=np.float32)\r\n",
        "  N = np.sum(co_matrix) # 총합 axis=0, 1\r\n",
        "  C = np.sum(co_matrix, axis=0) # 단어별 합 axis=0\r\n",
        "\r\n",
        "  for i in range(co_matrix.shape[0]):\r\n",
        "    for j in range(co_matrix.shape[1]):\r\n",
        "      pmi = np.log2((co_matrix[i, j] * N ) / (C[i] * C[j]) + eps)\r\n",
        "      ppmi_mat[i, j] = max(0, pmi)\r\n",
        "\r\n",
        "  return ppmi_mat\r\n",
        "\r\n",
        "ppmi_matrix = ppmi(co_matrix)\r\n",
        "print(ppmi_matrix)"
      ],
      "execution_count": 42,
      "outputs": [
        {
          "output_type": "stream",
          "text": [
            "[[0.   1.81 0.   0.   0.   0.   0.  ]\n",
            " [1.81 0.   0.81 0.   0.81 0.81 0.  ]\n",
            " [0.   0.81 0.   1.81 0.   0.   0.  ]\n",
            " [0.   0.   1.81 0.   1.81 0.   0.  ]\n",
            " [0.   0.81 0.   1.81 0.   0.   0.  ]\n",
            " [0.   0.81 0.   0.   0.   0.   2.81]\n",
            " [0.   0.   0.   0.   0.   2.81 0.  ]]\n"
          ],
          "name": "stdout"
        }
      ]
    },
    {
      "cell_type": "markdown",
      "metadata": {
        "id": "pxhE3W0ko7ud"
      },
      "source": [
        "- PPMI 행렬은 corpus가 커질수록 matrix의 차원이 커지고 대부분의 원소가 0이라 비효율적임\r\n",
        "\r\n",
        "## 차원 감소(Dimensionality Reduction)\r\n",
        "\r\n",
        "- 벡터의 차원을 줄이는데, 데이터의 분포를 고려해 중요한 축을 찾는 것\r\n",
        "\r\n",
        "### SVD(Singular Value Decomposition, 특잇값분해)\r\n",
        "\r\n",
        "$X = USV^T$\r\n",
        "\r\n",
        "- 임의의 행렬을 U, S, V로 분해(U와 V는 직교행렬, S는 대각행렬-해당 축의 중요도를 나타내는 특잇값이 나열되어 있음)\r\n",
        "- S에서 특잇값이 높은 성분을 기준으로 U를 깎아냄(차원 감소)\r\n",
        "- O(N^3)이므로 Truncated SVD를 많이 사용"
      ]
    },
    {
      "cell_type": "code",
      "metadata": {
        "colab": {
          "base_uri": "https://localhost:8080/"
        },
        "id": "luC94NROrPW8",
        "outputId": "e8c20ab1-baca-4fe7-a3ea-093e9391610b"
      },
      "source": [
        "U, S, V = np.linalg.svd(ppmi_matrix)\r\n",
        "\r\n",
        "np.set_printoptions(precision=2)\r\n",
        "\r\n",
        "print(U)\r\n",
        "print()\r\n",
        "print(S)\r\n",
        "print()\r\n",
        "print(V)"
      ],
      "execution_count": 17,
      "outputs": [
        {
          "output_type": "stream",
          "text": [
            "[[ 0.00e+00  3.41e-01 -3.89e-16 -1.21e-01 -1.11e-16 -9.32e-01 -1.09e-16]\n",
            " [-5.98e-01  0.00e+00  1.80e-01  0.00e+00 -7.81e-01  0.00e+00  0.00e+00]\n",
            " [-5.55e-17  4.36e-01 -2.22e-16 -5.09e-01 -1.39e-17  2.25e-01 -7.07e-01]\n",
            " [-4.98e-01  1.91e-16  6.80e-01 -6.27e-17  5.38e-01 -1.29e-16  8.58e-18]\n",
            " [-3.23e-17  4.36e-01 -1.65e-16 -5.09e-01 -1.35e-17  2.25e-01  7.07e-01]\n",
            " [-3.23e-17  7.09e-01 -1.65e-16  6.84e-01 -1.35e-17  1.71e-01  7.69e-17]\n",
            " [-6.28e-01 -2.96e-16 -7.10e-01  8.90e-17  3.17e-01  2.49e-16 -1.10e-17]]\n",
            "\n",
            "[3.17e+00 3.17e+00 2.70e+00 2.70e+00 1.51e+00 1.51e+00 2.56e-17]\n",
            "\n",
            "[[-3.41e-01 -1.11e-16 -4.36e-01  0.00e+00 -4.36e-01 -7.09e-01 -0.00e+00]\n",
            " [-0.00e+00  5.98e-01  1.32e-16  4.98e-01  1.87e-16 -2.01e-16  6.28e-01]\n",
            " [ 1.21e-01 -5.55e-16  5.09e-01  0.00e+00  5.09e-01 -6.84e-01 -0.00e+00]\n",
            " [ 0.00e+00 -1.80e-01 -5.60e-17 -6.80e-01 -5.60e-17  5.50e-17  7.10e-01]\n",
            " [-9.32e-01 -5.55e-17  2.25e-01  0.00e+00  2.25e-01  1.71e-01 -0.00e+00]\n",
            " [ 0.00e+00 -7.81e-01 -3.22e-16  5.38e-01 -2.11e-16  2.89e-16  3.17e-01]\n",
            " [ 0.00e+00  7.09e-17 -7.07e-01 -8.01e-17  7.07e-01 -2.01e-17 -5.91e-17]]\n"
          ],
          "name": "stdout"
        }
      ]
    },
    {
      "cell_type": "code",
      "metadata": {
        "colab": {
          "base_uri": "https://localhost:8080/",
          "height": 265
        },
        "id": "hL24ZYAXtWk2",
        "outputId": "2cd0f723-5822-4819-e66a-bbe206cb05b3"
      },
      "source": [
        "for word, word_id in word_to_id.items():\r\n",
        "  plt.annotate(word, (U[word_id, 0], U[word_id, 1]))\r\n",
        "\r\n",
        "plt.scatter(U[:, 0], U[:, 1], alpha=0.5)\r\n",
        "plt.show()"
      ],
      "execution_count": 26,
      "outputs": [
        {
          "output_type": "display_data",
          "data": {
            "image/png": "[encoded data removed]",
            "text/plain": [
              "<Figure size 432x288 with 1 Axes>"
            ]
          },
          "metadata": {
            "tags": [],
            "needs_background": "light"
          }
        }
      ]
    },
    {
      "cell_type": "markdown",
      "metadata": {
        "id": "zACnsD-FyysK"
      },
      "source": [
        "### PTB Dataset\r\n",
        "\r\n",
        "- 대표적인 전처리된 corpus\r\n",
        "- Truncated SVD를 이용하여 몇 가지 단어(querys)에 대해 유사 단어를 표시"
      ]
    },
    {
      "cell_type": "code",
      "metadata": {
        "colab": {
          "base_uri": "https://localhost:8080/"
        },
        "id": "EsPf_rV0ufUu",
        "outputId": "3420dcd4-d78b-462d-a1b0-4d9feb0d03b3"
      },
      "source": [
        "from dataset import ptb\r\n",
        "\r\n",
        "ptb_corpus, ptb_wti, ptb_itw = ptb.load_data('train')\r\n",
        "print(\"corpus length\", len(ptb_corpus))\r\n",
        "\r\n",
        "print(ptb_itw[10])\r\n",
        "print(ptb_wti['car'])"
      ],
      "execution_count": 35,
      "outputs": [
        {
          "output_type": "stream",
          "text": [
            "corpus length 929589\n",
            "ipo\n",
            "3856\n"
          ],
          "name": "stdout"
        }
      ]
    },
    {
      "cell_type": "code",
      "metadata": {
        "id": "OgnAfXBIvTxw"
      },
      "source": [
        "from sklearn.utils.extmath import randomized_svd\r\n",
        "\r\n",
        "window_size = 2\r\n",
        "wordvec_size = 100\r\n",
        "vocab_size = len(ptb_wti)\r\n",
        "\r\n",
        "ptb_co_matrix = create_co_matrix(corpus, vocab_size, window_size)\r\n",
        "\r\n",
        "print(\"ptb_co_matrix shape : \", ptb_co_matrix.shape)\r\n",
        "\r\n",
        "ptb_ppmi = ppmi(ptb_co_matrix)\r\n",
        "\r\n",
        "print(\"ptb_ppmi shape : \", ptb_ppmi.shape)\r\n",
        "\r\n",
        "ptb_U, ptb_S, ptb_V = randomized_svd(ptb_ppmi, n_components=wordvec_size, n_iter=5, random_state=None)\r\n",
        "\r\n",
        "print(\"ptb_ppmi U matrix shape\", ptb_U.shape)\r\n",
        "\r\n",
        "word_vecs = ptb_U[:, wordvec_size]\r\n",
        "querys = ['you', 'year', 'car', 'toyota']\r\n",
        "\r\n",
        "for q in querys:\r\n",
        "  most_similar(q, ptb_wti, ptb_itw, word_vecs)"
      ],
      "execution_count": null,
      "outputs": []
    }
  ]
}
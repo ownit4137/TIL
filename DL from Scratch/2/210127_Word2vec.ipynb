{
  "nbformat": 4,
  "nbformat_minor": 0,
  "metadata": {
    "colab": {
      "name": "210127_Word2vec.ipynb",
      "provenance": [],
      "authorship_tag": "ABX9TyOvxgV1ZI64LeLNzStsdw1T",
      "include_colab_link": true
    },
    "kernelspec": {
      "name": "python3",
      "display_name": "Python 3"
    }
  },
  "cells": [
    {
      "cell_type": "markdown",
      "metadata": {
        "id": "view-in-github",
        "colab_type": "text"
      },
      "source": [
        "<a href=\"https://colab.research.google.com/github/ownit4137/TIL/blob/main/DL%20from%20Scratch/2/210127_Word2vec.ipynb\" target=\"_parent\"><img src=\"https://colab.research.google.com/assets/colab-badge.svg\" alt=\"Open In Colab\"/></a>"
      ]
    },
    {
      "cell_type": "code",
      "metadata": {
        "colab": {
          "base_uri": "https://localhost:8080/"
        },
        "id": "5CZtrThrNznF",
        "outputId": "994920fc-440b-4a8e-ecee-106ec530bd7a"
      },
      "source": [
        "from google.colab import drive \r\n",
        "drive.mount('/content/gdrive/')\r\n",
        "\r\n",
        "%cd /content/gdrive/MyDrive/'Colab Notebooks'/"
      ],
      "execution_count": 1,
      "outputs": [
        {
          "output_type": "stream",
          "text": [
            "Mounted at /content/gdrive/\n",
            "/content/gdrive/MyDrive/Colab Notebooks\n"
          ],
          "name": "stdout"
        }
      ]
    },
    {
      "cell_type": "markdown",
      "metadata": {
        "id": "2FgmiBKrSKiF"
      },
      "source": [
        "# 추론 기반 기법\r\n",
        "\r\n",
        "- 통계 기반 기법에서는 주변 단어의 빈도를 기초로 단어를 표현함, 말뭉치가 커질수록 계산하는 비용이 매우 커짐\r\n",
        "- 추론 기반 기법은 주변 맥락이 주어졌을 때 target을 추론하는 것\r\n",
        "- 추론 문제를 신경망으로 학습시키는 것을 Word2vec이라 함\r\n",
        "- Word2vec 모델에는 CBOW(Continuous Bag of Words)와 Skip-Gram 두 가지가 있음"
      ]
    },
    {
      "cell_type": "markdown",
      "metadata": {
        "id": "TuDYTl02wFUB"
      },
      "source": [
        "## CBOW\r\n",
        "\r\n",
        "![](https://wikidocs.net/images/page/22660/word2vec_renew_4.PNG)\r\n",
        "\r\n",
        "https://wikidocs.net/22660\r\n",
        "\r\n",
        "### 입력층(input, )\r\n",
        "\r\n",
        "- 단어의 ID를 원핫으로 표현하여 입력층의 뉴런 수를 고정시킴\r\n",
        "- 단어의 ID에 해당하는 뉴런 한개에서만 1이 입력됨\r\n",
        "- 맥락에 포함시킬 단어가 많아지면 은닉층도 많아짐(window가 n이면 입력층이 2n개 만들어짐)\r\n",
        "\r\n",
        "### W_in(input, hidden)\r\n",
        "\r\n",
        "- 입력층과 은닉층 사이의 가중치\r\n",
        "- 입력이 들어오면 input개의 뉴런 중 하나만 1이기 때문에 입력에 가중치를 곱하면 1인 뉴런에 곱해지는 하나의 행벡터가 추출됨 -> **단어의 분산 표현**\r\n",
        "- 여러 입력층이 하나의 W_in을 공유함\r\n",
        "\r\n",
        "### 은닉층(hidden, )\r\n",
        "\r\n",
        "- 입력에 W_in을 곱한 결과를 저장하는 뉴런\r\n",
        "- 입력층이 여러 개일때는 전체를 평균한 값을 사용\r\n",
        "- 은닉층의 뉴런이 입력층보다 작음, **단어 예측에 필요한 정보를 간결하게 담을 수 있음**\r\n",
        "- 입력을 은닉층으로 변환하는 과정을 인코딩, 은닉층을 우리가 알 수 있게 변환하는 과정을 디코딩이라 함\r\n",
        "\r\n",
        "### W_out(hidden, input)\r\n",
        "\r\n",
        "- 은닉층을 디코딩하는 가중치\r\n",
        "\r\n",
        "### 출력층(input, )\r\n",
        "\r\n",
        "- 은닉층에 W_out이 곱해져 각각의 뉴런이 단어별 출현 점수를 가지는 층\r\n",
        "- 주로 출력층에 소프트맥스 함수를 통과시켜 나온 출현 확률을 사용함"
      ]
    },
    {
      "cell_type": "code",
      "metadata": {
        "colab": {
          "base_uri": "https://localhost:8080/"
        },
        "id": "oAEPQQgpyoOE",
        "outputId": "f4f0b470-7be3-4c95-d946-01f1dacb8f33"
      },
      "source": [
        "import numpy as np\r\n",
        "from common.util2 import preprocess, create_contexts_target, convert_one_hot\r\n",
        "\r\n",
        "text = 'You say goodbye and I say hello.'\r\n",
        "corpus, wti, itw = preprocess(text)\r\n",
        "\r\n",
        "contexts, target = create_contexts_target(corpus, window_size=1) # 모든 contexts와 target을 반환\r\n",
        "print(\"contexts, target shape :\", contexts.shape, target.shape)\r\n",
        "\r\n",
        "vocab_size = len(wti)\r\n",
        "target = convert_one_hot(target, vocab_size)\r\n",
        "contexts = convert_one_hot(contexts, vocab_size)\r\n",
        "print(\"contexts, target shape(ont-hot) :\", contexts.shape, target.shape)"
      ],
      "execution_count": 10,
      "outputs": [
        {
          "output_type": "stream",
          "text": [
            "contexts, target shape : (6, 2) (6,)\n",
            "contexts, target shape(ont-hot) : (6, 2, 7) (6, 7)\n"
          ],
          "name": "stdout"
        }
      ]
    },
    {
      "cell_type": "code",
      "metadata": {
        "id": "CcKaDvIb3PSd"
      },
      "source": [
        "from common.layers2 import MatMul, SoftmaxWithLoss  \r\n",
        "# affine계층, Softmax-CEE 계층\r\n",
        "\r\n",
        "class SimpleCBOW:\r\n",
        "  def __init__(self, vocab_size, hidden_size):\r\n",
        "    V, H = vocab_size, hidden_size\r\n",
        "\r\n",
        "    W_in = 0.01 * np.random.randn(V, H).astype('f')\r\n",
        "    W_out = 0.01 * np.random.randn(H, V).astype('f')\r\n",
        "\r\n",
        "    self.in_layer0 = MatMul(W_in)\r\n",
        "    self.in_layer1 = MatMul(W_in)\r\n",
        "    self.out_layer = MatMul(W_out)\r\n",
        "    self.loss_layer = SoftmaxWithLoss()\r\n",
        "\r\n",
        "    layers = [self.in_layer0, self.in_layer1, self.out_layer]\r\n",
        "    self.params, self.grads = [], []\r\n",
        "    for layer in layers:\r\n",
        "      self.params += layer.params\r\n",
        "      self.grads += layer.grads\r\n",
        "\r\n",
        "    # distributional representation\r\n",
        "    self.word_vecs = W_in\r\n",
        "\r\n",
        "  def forward(self, contexts, target):\r\n",
        "    h0 = self.in_layer0.forward(contexts[:, 0])\r\n",
        "    h1 = self.in_layer1.forward(contexts[:, 1])\r\n",
        "    h = (h0 + h1) * 0.5\r\n",
        "    score = self.out_layer.forward(h)\r\n",
        "    loss = self.loss_layer.forward(score, target)\r\n",
        "    return loss\r\n",
        "\r\n",
        "  def backward(self, dout=1):\r\n",
        "    ds = self.loss_layer.backward(dout)\r\n",
        "    da = self.out_layer.backward(ds)\r\n",
        "    da *= 0.5\r\n",
        "    self.in_layer1.backward(da)\r\n",
        "    self.in_layer0.backward(da)\r\n",
        "    return None"
      ],
      "execution_count": 38,
      "outputs": []
    },
    {
      "cell_type": "markdown",
      "metadata": {
        "id": "wFVY05WIAVI0"
      },
      "source": [
        "### forward\r\n",
        "\r\n",
        "- affine연산값 = layer.forward(입력)\r\n",
        "- 윈도우의 크기가 i이면 맥락에 포함되는 단어(contexts row의 갯수)가 2i개\r\n",
        "- 한 맥락 안에서 단어 2i개에 따른 target을 모두 학습해 주어야 함, 입력층의 개수 2i개\r\n",
        "- k번째 입력층에서 맥락의 k번째 단어(context의 k번째 row)를 학습\r\n",
        "```  \r\n",
        "context[:, 0] = context[:, 0, :], context[...][0][...]\r\n",
        "depth(axis 2), row(axis 0), column(axis 1) 순으로 indexing\r\n",
        "```\r\n",
        "\r\n",
        "### backward\r\n",
        "\r\n",
        "- 역전파 값 = layer.backward(이전 역전파 값)\r\n",
        "- `+`의 역전파는 기울기를 그대로 통과시킴\r\n",
        "- `*`의 역전파는 순전파 시의 입력을 서로 바꿔 곱합\r\n",
        "\r\n"
      ]
    },
    {
      "cell_type": "code",
      "metadata": {
        "id": "kfwfS4LCBXab"
      },
      "source": [
        "from common.trainer2 import Trainer\r\n",
        "from common.optimizer2 import Adam\r\n",
        "\r\n",
        "cbow = SimpleCBOW(vocab_size, hidden_size=5)\r\n",
        "optimizer = Adam()\r\n",
        "trainer = Trainer(cbow, optimizer)\r\n",
        "trainer.fit(contexts, target, max_epoch=1000, batch_size=3)"
      ],
      "execution_count": null,
      "outputs": []
    },
    {
      "cell_type": "code",
      "metadata": {
        "colab": {
          "base_uri": "https://localhost:8080/",
          "height": 280
        },
        "id": "wvybZFFyDRbZ",
        "outputId": "f0733fc6-3658-4395-89da-1cb8d7a14d83"
      },
      "source": [
        "import matplotlib.pyplot as plt\r\n",
        "%matplotlib inline\r\n",
        "\r\n",
        "plt.plot(trainer.loss_list)\r\n",
        "plt.xlabel('iterations')\r\n",
        "plt.ylabel('loss')\r\n",
        "plt.show()"
      ],
      "execution_count": 43,
      "outputs": [
        {
          "output_type": "display_data",
          "data": {
            "image/png": "[encoded data removed]",
            "text/plain": [
              "<Figure size 432x288 with 1 Axes>"
            ]
          },
          "metadata": {
            "tags": [],
            "needs_background": "light"
          }
        }
      ]
    },
    {
      "cell_type": "code",
      "metadata": {
        "colab": {
          "base_uri": "https://localhost:8080/"
        },
        "id": "_dlmWylQDk6f",
        "outputId": "a5a24b0e-b2ba-46d3-81eb-1886cdb5cf66"
      },
      "source": [
        "dist_rep = cbow.word_vecs # distributional representation\r\n",
        "\r\n",
        "for word_id, word in itw.items():\r\n",
        "  print(word, dist_rep[word_id])"
      ],
      "execution_count": 45,
      "outputs": [
        {
          "output_type": "stream",
          "text": [
            "you [ 1.1009845 -1.1687964 -1.1375549 -1.2455428 -1.1252223]\n",
            "say [-1.1991144   1.2497904   1.242143    0.08057171  0.5530844 ]\n",
            "goodbye [ 0.8885245  -0.76481366 -0.7901251  -0.68070847 -0.7762243 ]\n",
            "and [-1.0464666  1.057946   1.0525875  1.5976113  1.614526 ]\n",
            "i [ 0.8809924  -0.75565386 -0.7620977  -0.67811626 -0.7734172 ]\n",
            "hello [ 1.0959461 -1.1697292 -1.1548245 -1.2661765 -1.1295903]\n",
            ". [-1.0778775  1.0894455  1.100113  -1.461588  -1.6160035]\n"
          ],
          "name": "stdout"
        }
      ]
    }
  ]
}
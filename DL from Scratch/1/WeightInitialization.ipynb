{
  "nbformat": 4,
  "nbformat_minor": 0,
  "metadata": {
    "colab": {
      "name": "WeightInitialization",
      "provenance": [],
      "collapsed_sections": [],
      "authorship_tag": "ABX9TyNZ0A87htLI0UzSzElaLLNw",
      "include_colab_link": true
    },
    "kernelspec": {
      "name": "python3",
      "display_name": "Python 3"
    }
  },
  "cells": [
    {
      "cell_type": "markdown",
      "metadata": {
        "id": "view-in-github",
        "colab_type": "text"
      },
      "source": [
        "<a href=\"https://colab.research.google.com/github/ownit4137/TIL/blob/main/DL%20from%20Scratch/1/WeightInitialization.ipynb\" target=\"_parent\"><img src=\"https://colab.research.google.com/assets/colab-badge.svg\" alt=\"Open In Colab\"/></a>"
      ]
    },
    {
      "cell_type": "markdown",
      "metadata": {
        "id": "OjezOaZElSxq"
      },
      "source": [
        "# 가중치 초깃값 설정\r\n",
        "\r\n",
        "- 가중치가 점점 작아지게 하여 오버피팅이 일어나지 않게 함\r\n",
        "- 가중치를 처음부터 0으로? -> 역전파 식에 의해 갱신을 거쳐도 같은 값을 유지, 불가\r\n",
        "- 여러 가지 가중치 초깃값, 활성화 함수 사용\r\n"
      ]
    },
    {
      "cell_type": "code",
      "metadata": {
        "colab": {
          "base_uri": "https://localhost:8080/"
        },
        "id": "lxOLlL75jZLy",
        "outputId": "a89d0615-6b38-4460-c5ab-365b7bae106c"
      },
      "source": [
        "from google.colab import drive \r\n",
        "drive.mount('/content/gdrive/')\r\n",
        "\r\n",
        "%cd /content/gdrive/MyDrive/'Colab Notebooks'/"
      ],
      "execution_count": 2,
      "outputs": [
        {
          "output_type": "stream",
          "text": [
            "Drive already mounted at /content/gdrive/; to attempt to forcibly remount, call drive.mount(\"/content/gdrive/\", force_remount=True).\n",
            "/content/gdrive/MyDrive/Colab Notebooks\n"
          ],
          "name": "stdout"
        }
      ]
    },
    {
      "cell_type": "code",
      "metadata": {
        "id": "RDoUtp3bjEJL"
      },
      "source": [
        "import numpy as np\r\n",
        "import matplotlib.pyplot as plt\r\n",
        "\r\n",
        "\r\n",
        "def sigmoid(x):\r\n",
        "    return 1 / (1 + np.exp(-x))\r\n",
        "\r\n",
        "\r\n",
        "def ReLU(x):\r\n",
        "    return np.maximum(0, x)\r\n",
        "\r\n",
        "\r\n",
        "def visualize(activations):\r\n",
        "  for i, a in activations.items():\r\n",
        "    plt.subplot(1, len(activations), i+1)\r\n",
        "    plt.title(str(i+1) + \"-layer\")\r\n",
        "    if i != 0: \r\n",
        "      plt.yticks([], [])\r\n",
        "    plt.ylim(0, 7000)\r\n",
        "    plt.hist(a.flatten(), 30, range=(0,1))\r\n",
        "  plt.show()"
      ],
      "execution_count": 41,
      "outputs": []
    },
    {
      "cell_type": "code",
      "metadata": {
        "id": "Z6C2acz0pimR"
      },
      "source": [
        "# 5개의 은닉층을 가진 신경망\r\n",
        "\r\n",
        "input_data = np.random.randn(1000, 100)\r\n",
        "node_num = 100 \r\n",
        "hidden_layer_size = 5  \r\n",
        "activations = {}  \r\n",
        "\r\n",
        "x = input_data"
      ],
      "execution_count": 42,
      "outputs": []
    },
    {
      "cell_type": "markdown",
      "metadata": {
        "id": "W7JZ3BNYp3Ny"
      },
      "source": [
        "## Sigmoid\r\n",
        "\r\n",
        "- (0, 0.5) 대칭, 중앙 부근이 선형인 함수\r\n",
        "- 활성화 함수로는 tanh가 더 높은 성능을 보임(원점 대칭)\r\n",
        "\r\n",
        "### stdev가 1인 정규분포로 초기화\r\n",
        "\r\n",
        "- sigmoid함수의 특성상 출력이 0과 1에 가까워지면 미분이 0이 되어 값이 변하지 않음\r\n",
        "- 기울기 소실(Vanishing Gradient Problem) 발생\r\n"
      ]
    },
    {
      "cell_type": "code",
      "metadata": {
        "colab": {
          "base_uri": "https://localhost:8080/",
          "height": 281
        },
        "id": "Py0N-ZtxpxaH",
        "outputId": "f297a6ae-ed89-43f6-8394-9cf74b50b22b"
      },
      "source": [
        "for i in range(hidden_layer_size):\r\n",
        "  if i != 0:\r\n",
        "    x = activations[i-1]\r\n",
        "\r\n",
        "  # stdev가 1인 분포로 초기화\r\n",
        "  w = np.random.randn(node_num, node_num) * 1\r\n",
        "  a = np.dot(x, w)\r\n",
        "  z = sigmoid(a)\r\n",
        "  activations[i] = z\r\n",
        "\r\n",
        "# plot\r\n",
        "visualize(activations)"
      ],
      "execution_count": 34,
      "outputs": [
        {
          "output_type": "display_data",
          "data": {
            "image/png": "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\n",
            "text/plain": [
              "<Figure size 432x288 with 5 Axes>"
            ]
          },
          "metadata": {
            "tags": [],
            "needs_background": "light"
          }
        }
      ]
    },
    {
      "cell_type": "markdown",
      "metadata": {
        "id": "fZEiJ617tzLh"
      },
      "source": [
        "### stdev가 0.01인 정규분포로 초기화\r\n",
        "\r\n",
        "- 활성화값들이 중앙으로 치우쳐 표현력이 제한됨"
      ]
    },
    {
      "cell_type": "code",
      "metadata": {
        "colab": {
          "base_uri": "https://localhost:8080/",
          "height": 281
        },
        "id": "leW0ZEa9sRJk",
        "outputId": "06049942-6982-446a-8a7d-237e0e777ac7"
      },
      "source": [
        "for i in range(hidden_layer_size):\r\n",
        "  if i != 0:\r\n",
        "    x = activations[i-1]\r\n",
        "\r\n",
        "  # stdev가 0.01인 분포로 초기화\r\n",
        "  w = np.random.randn(node_num, node_num) * 0.01\r\n",
        "  a = np.dot(x, w)\r\n",
        "  z = sigmoid(a)\r\n",
        "  activations[i] = z\r\n",
        "\r\n",
        "# plot\r\n",
        "visualize(activations)"
      ],
      "execution_count": 35,
      "outputs": [
        {
          "output_type": "display_data",
          "data": {
            "image/png": "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\n",
            "text/plain": [
              "<Figure size 432x288 with 5 Axes>"
            ]
          },
          "metadata": {
            "tags": [],
            "needs_background": "light"
          }
        }
      ]
    },
    {
      "cell_type": "markdown",
      "metadata": {
        "id": "EiFU4Lx4uDwA"
      },
      "source": [
        "### Xavier 초기화\r\n",
        "\r\n",
        "- 이전 계층의 노드가 $n$일때 stdev가 $\\cfrac{1}{ \\sqrt{n} } $ 인 분포를 사용\r\n"
        "- 논문에서는 이전 계층과 다음 계층의 노드 수를 모두 고려하는것을 제안함\r\n"
      ]
    },
    {
      "cell_type": "code",
      "metadata": {
        "colab": {
          "base_uri": "https://localhost:8080/",
          "height": 281
        },
        "id": "eZZEfXFHtew8",
        "outputId": "e34def2b-1c4c-4651-9d35-5c6b247ac840"
      },
      "source": [
        "for i in range(hidden_layer_size):\r\n",
        "  if i != 0:\r\n",
        "    x = activations[i-1]\r\n",
        "\r\n",
        "  # xavier 초기화\r\n",
        "  w = np.random.randn(node_num, node_num) * np.sqrt(1.0 / node_num)\r\n",
        "  a = np.dot(x, w)\r\n",
        "  z = sigmoid(a)\r\n",
        "  activations[i] = z\r\n",
        "\r\n",
        "# plot\r\n",
        "visualize(activations)"
      ],
      "execution_count": 40,
      "outputs": [
        {
          "output_type": "display_data",
          "data": {
            "image/png": "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\n",
            "text/plain": [
              "<Figure size 432x288 with 5 Axes>"
            ]
          },
          "metadata": {
            "tags": [],
            "needs_background": "light"
          }
        }
      ]
    },
    {
      "cell_type": "markdown",
      "metadata": {
        "id": "MvGgVqJvupSo"
      },
      "source": [
        "## ReLU\r\n",
        "\r\n",
        "- ReLU에 특화된 He 초기화 사용\r\n",
        "\r\n",
        "### He 초기화\r\n",
        "\r\n",
        "-  계층의 노드가 $n$일때 stdev가 $\\cfrac{2}{ \\sqrt{n} } $ 인 분포를 사용"
      ]
    },
    {
      "cell_type": "code",
      "metadata": {
        "colab": {
          "base_uri": "https://localhost:8080/",
          "height": 281
        },
        "id": "2Sy9ywS5uoU3",
        "outputId": "1db0a9c3-6894-425c-e468-a34a1d6ca034"
      },
      "source": [
        "activations = {}\r\n",
        "\r\n",
        "for i in range(hidden_layer_size):\r\n",
        "  if i != 0:\r\n",
        "    x = activations[i-1]\r\n",
        "\r\n",
        "  # xavier 초기화\r\n",
        "  w = np.random.randn(node_num, node_num) * np.sqrt(2.0 / node_num)\r\n",
        "  a = np.dot(x, w)\r\n",
        "  z = ReLU(a)\r\n",
        "  activations[i] = z\r\n",
        "\r\n",
        "# plot\r\n",
        "visualize(activations)"
      ],
      "execution_count": 43,
      "outputs": [
        {
          "output_type": "display_data",
          "data": {
            "image/png": "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\n",
            "text/plain": [
              "<Figure size 432x288 with 5 Axes>"
            ]
          },
          "metadata": {
            "tags": [],
            "needs_background": "light"
          }
        }
      ]
    }
  ]
}

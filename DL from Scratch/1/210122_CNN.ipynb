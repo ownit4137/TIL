{
  "nbformat": 4,
  "nbformat_minor": 0,
  "metadata": {
    "colab": {
      "name": "210122_CNN.ipynb",
      "provenance": [],
      "authorship_tag": "ABX9TyO+Hw4RF468gFk9jgg5Wb+j",
      "include_colab_link": true
    },
    "kernelspec": {
      "name": "python3",
      "display_name": "Python 3"
    }
  },
  "cells": [
    {
      "cell_type": "markdown",
      "metadata": {
        "id": "view-in-github",
        "colab_type": "text"
      },
      "source": [
        "<a href=\"https://colab.research.google.com/github/ownit4137/TIL/blob/main/DL%20from%20Scratch/1/210122_CNN.ipynb\" target=\"_parent\"><img src=\"https://colab.research.google.com/assets/colab-badge.svg\" alt=\"Open In Colab\"/></a>"
      ]
    },
    {
      "cell_type": "markdown",
      "metadata": {
        "id": "3Yp4oE0R9l9U"
      },
      "source": [
        "# 합성곱(Convolutional) 신경망\r\n",
        "\r\n",
        "- 이미지 인식과 음성 인식 등에서 활용\r\n",
        "- Convolutional - ReLU - Pooling으로 구성된 층으로 이루어짐(일반적인 층은 Affine - ReLU)\r\n",
        "\r\n",
        "## Convolutional Layer\r\n",
        "\r\n",
        "- 완전연결(Affine)계층은 데이터의 형상을 무시한 채 학습함\r\n",
        "- 이미지 등의 데이터를 다룰 경우 형상이나 패턴을 인식하는 과정이 필요\r\n",
        "- 입력 데이터에 필터(커널)를 곱하는 연산을 FMA라고 함(fused multiply-add)\r\n",
        "\r\n",
        "### 패딩\r\n",
        "\r\n",
        "- 합성곱 연산을 수행하기 전에 데이터 주변을 0으로 채우는 것\r\n",
        "- *Convolution 연산 후 출력 데이터의 크기를 유지하기 위해*\r\n",
        "\r\n",
        "### 스트라이드\r\n",
        "\r\n",
        "- 필터를 적용하는 위치의 간격을 의미\r\n",
        "- 출력 가로, 입력 가로, 필터 가로, 패딩, 스트라이드가 있을 때\r\n",
        "- OW = (IW + 2P - FW) / S + 1, 정수로 반올림하여 사용\r\n",
        "\r\n",
        "### 고차원 데이터\r\n",
        "\r\n",
        "- 이미지와 같은 데이터는 RGB 채널 등 행렬의 차원이 커짐\r\n",
        "- 이미지의 차원과 같은 차원의 필터를 사용\r\n",
        "- 입력(C, H, W) * 필터(C, FH, FW) -> 출력(1, OH, OW)\r\n",
        "- 입력(C, H, W) * 다중 필터(FN, C, FH, FW) -> 출력(FN, OH, OW)\r\n",
        "\r\n",
        "### 배치 처리\r\n",
        "\r\n",
        "- 여러 가지의 데이터를 한번에 처리(속도 면에서 이점을 가짐)\r\n",
        "- 입력(N, C, H, W) * 다중 필터(FN, C, FH, FW) -> 출력(N, FN, OH, OW)\r\n",
        "\r\n",
        "## Pooling Layer\r\n",
        "\r\n",
        "- 지정한 영역을 원소 하나로 집약하여 공간의 크기를 줄임\r\n",
        "- 최대 풀링 or 평균 풀링을 사용\r\n",
        "- **입력 데이터에 사소한 차이가 있을 때 그 차이를 풀링으로 흡수할 수 있음**\r\n",
        "\r\n",
        "\r\n",
        "\r\n"
      ]
    },
    {
      "cell_type": "markdown",
      "metadata": {
        "id": "hYxrMjcAQZe9"
      },
      "source": [
        "# 코드\r\n",
        "\r\n",
        "### im2col\r\n",
        "\r\n",
        "- 합성곱 연산을 수행하기 위해서는 여러 개의 중첩 for문이 필요함\r\n",
        "- 계산의 편의를 위해 im2col함수를 만들어 사용\r\n",
        "- 4차원 데이터를 2차원으로 변환\r\n",
        "- 필터를 곱하기 쉽게 입력 데이터가 reshape(-1, 필터 크기 * 채널) 형식으로 변형됨"
      ]
    },
    {
      "cell_type": "code",
      "metadata": {
        "colab": {
          "base_uri": "https://localhost:8080/"
        },
        "id": "DOASjbQKQvPA",
        "outputId": "c7947aaa-8b75-49c0-999e-86e3d6029748"
      },
      "source": [
        "from google.colab import drive \r\n",
        "drive.mount('/content/gdrive/')\r\n",
        "\r\n",
        "%cd /content/gdrive/MyDrive/'Colab Notebooks'/"
      ],
      "execution_count": 4,
      "outputs": [
        {
          "output_type": "stream",
          "text": [
            "Mounted at /content/gdrive/\n",
            "/content/gdrive/MyDrive/Colab Notebooks\n"
          ],
          "name": "stdout"
        }
      ]
    },
    {
      "cell_type": "code",
      "metadata": {
        "id": "IyWvO40jROpI"
      },
      "source": [
        "def im2col(input_data, filter_h, filter_w, stride=1, pad=0):\r\n",
        "    N, C, H, W = input_data.shape\r\n",
        "    out_h = (H + 2*pad - filter_h)//stride + 1\r\n",
        "    out_w = (W + 2*pad - filter_w)//stride + 1\r\n",
        "\r\n",
        "    img = np.pad(input_data, [(0,0), (0,0), (pad, pad), (pad, pad)], 'constant')\r\n",
        "    col = np.zeros((N, C, filter_h, filter_w, out_h, out_w))\r\n",
        "\r\n",
        "    for y in range(filter_h):\r\n",
        "        y_max = y + stride*out_h\r\n",
        "        for x in range(filter_w):\r\n",
        "            x_max = x + stride*out_w\r\n",
        "            col[:, :, y, x, :, :] = img[:, :, y:y_max:stride, x:x_max:stride]\r\n",
        "\r\n",
        "    # 축이 주어졌을 때 축의 순서를 변경\r\n",
        "    col = col.transpose(0, 4, 5, 1, 2, 3).reshape(N*out_h*out_w, -1)\r\n",
        "    return col"
      ],
      "execution_count": 6,
      "outputs": []
    },
    {
      "cell_type": "code",
      "metadata": {
        "colab": {
          "base_uri": "https://localhost:8080/"
        },
        "id": "vpOIgc4bOxVJ",
        "outputId": "7c179e9a-e39d-4eb2-8f67-dc6119996be0"
      },
      "source": [
        "import numpy as np\r\n",
        "\r\n",
        "x1 = np.random.rand(1, 3, 7, 7)\r\n",
        "col1 = im2col(x1, 5, 5, stride=1, pad=0)\r\n",
        "print(col1.shape)"
      ],
      "execution_count": 9,
      "outputs": [
        {
          "output_type": "stream",
          "text": [
            "(9, 75)\n"
          ],
          "name": "stdout"
        }
      ]
    },
    {
      "cell_type": "markdown",
      "metadata": {
        "id": "GDvZ-MI8TUtO"
      },
      "source": [
        "### Convolution"
      ]
    },
    {
      "cell_type": "code",
      "metadata": {
        "id": "Hh0DBvy8TaXw"
      },
      "source": [
        "class Convolution:\r\n",
        "    def __init__(self, W, b, stride=1, pad=0):\r\n",
        "        self.W = W\r\n",
        "        self.b = b\r\n",
        "        self.stride = stride\r\n",
        "        self.pad = pad\r\n",
        "        \r\n",
        "    def forward(self, x):\r\n",
        "        FN, C, FH, FW = self.W.shape\r\n",
        "        N, C, H, W = x.shape\r\n",
        "        out_h = 1 + int((H + 2*self.pad - FH) / self.stride)\r\n",
        "        out_w = 1 + int((W + 2*self.pad - FW) / self.stride)\r\n",
        "\r\n",
        "        # 입력 데이터 변환 후 가중치 펼치기 -> 계산의 편의\r\n",
        "        col = im2col(x, FH, FW, self.stride, self.pad)\r\n",
        "        col_W = self.W.reshape(FN, -1).T \r\n",
        "\r\n",
        "        out = np.dot(col, col_W) + self.b\r\n",
        "        out = out.reshape(N, out_h, out_w, -1).transpose(0, 3, 1, 2)\r\n",
        "\r\n",
        "        return out"
      ],
      "execution_count": null,
      "outputs": []
    },
    {
      "cell_type": "markdown",
      "metadata": {
        "id": "5eawjQWZT7ER"
      },
      "source": [
        "### Pooling"
      ]
    },
    {
      "cell_type": "code",
      "metadata": {
        "id": "1Vn1yhjyT8-V"
      },
      "source": [
        "class Pooling:\r\n",
        "    def __init__(self, pool_h, pool_w, stride=1, pad=0):\r\n",
        "        self.pool_h = pool_h\r\n",
        "        self.pool_w = pool_w\r\n",
        "        self.stride = stride\r\n",
        "        self.pad = pad\r\n",
        "        \r\n",
        "        self.x = None\r\n",
        "        self.arg_max = None\r\n",
        "\r\n",
        "    def forward(self, x):\r\n",
        "        N, C, H, W = x.shape\r\n",
        "        out_h = int(1 + (H - self.pool_h) / self.stride)\r\n",
        "        out_w = int(1 + (W - self.pool_w) / self.stride)\r\n",
        "\r\n",
        "        # argmax를 이용하여 뽑아내기 좋게 변형\r\n",
        "        col = im2col(x, self.pool_h, self.pool_w, self.stride, self.pad)\r\n",
        "        col = col.reshape(-1, self.pool_h*self.pool_w)\r\n",
        "\r\n",
        "        # axis=1 방향으로의 최댓값\r\n",
        "        out = np.max(col, axis=1)\r\n",
        "        out = out.reshape(N, out_h, out_w, C).transpose(0, 3, 1, 2)\r\n",
        "\r\n",
        "        return out"
      ],
      "execution_count": null,
      "outputs": []
    },
    {
      "cell_type": "markdown",
      "metadata": {
        "id": "XlWs2_fdUn7h"
      },
      "source": [
        "# CNN 시각화\r\n",
        "\r\n",
        "- 합성곱 신경망도 일반 신경망과 같이 데이터를 학습하여 필터의 가중치를 업데이트함\r\n",
        "- 학습 후의 필터는 어떤 형상을 띄어 그 형상에 반응하게 됨\r\n",
        "- 층이 깊어질 수록 형상의 수준이 높아짐(선 - 무늬 - 사물)\r\n",
        "\r\n",
        "# 종류\r\n",
        "\r\n",
        "- LeNet과 AlexNet이 있음\r\n",
        "\r\n",
        "### LeNet\r\n",
        "\r\n",
        "- 20년 전의 원조 CNN\r\n",
        "- 활성화 함수로 sigmoid를 사용\r\n",
        "\r\n",
        "### AlexNet\r\n",
        "\r\n",
        "- 8년 전의 CNN\r\n",
        "- 활성화 함수로 ReLU를 사용\r\n",
        "- 국소적 정규화와 드롭아웃을 사용함"
      ]
    }
  ]
}
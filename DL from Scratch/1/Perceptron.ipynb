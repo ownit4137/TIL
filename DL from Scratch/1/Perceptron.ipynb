{
  "nbformat": 4,
  "nbformat_minor": 0,
  "metadata": {
    "colab": {
      "name": "Perceptron",
      "provenance": [],
      "collapsed_sections": [],
      "authorship_tag": "ABX9TyMtrE1xgKcxZkP2oV1HAPEV",
      "include_colab_link": true
    },
    "kernelspec": {
      "name": "python3",
      "display_name": "Python 3"
    }
  },
  "cells": [
    {
      "cell_type": "markdown",
      "metadata": {
        "id": "view-in-github",
        "colab_type": "text"
      },
      "source": [
        "<a href=\"https://colab.research.google.com/github/ownit4137/TIL/blob/main/DL%20from%20Scratch/1/Perceptron.ipynb\" target=\"_parent\"><img src=\"https://colab.research.google.com/assets/colab-badge.svg\" alt=\"Open In Colab\"/></a>"
      ]
    },
    {
      "cell_type": "code",
      "metadata": {
        "id": "4my4-cIqhZ-l"
      },
      "source": [
        "def AND(x1, x2):\r\n",
        "  w1, w2, theta = 0.5, 0.5, 0.7\r\n",
        "  tmp = x1*w1 + x2+w2\r\n",
        "  if tmp <= theta:\r\n",
        "    return 0\r\n",
        "  elif tmp > theta:\r\n",
        "    return 1"
      ],
      "execution_count": null,
      "outputs": []
    },
    {
      "cell_type": "code",
      "metadata": {
        "id": "6s4U6ZbTiLYI",
        "colab": {
          "base_uri": "https://localhost:8080/"
        },
        "outputId": "6fcfafa1-0a95-402b-e78d-4182b0f67b95"
      },
      "source": [
        "AND(0, 0)"
      ],
      "execution_count": null,
      "outputs": [
        {
          "output_type": "execute_result",
          "data": {
            "text/plain": [
              "0"
            ]
          },
          "metadata": {
            "tags": []
          },
          "execution_count": 3
        }
      ]
    }
  ]
}
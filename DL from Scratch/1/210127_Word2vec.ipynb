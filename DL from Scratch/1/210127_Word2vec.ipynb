{
  "nbformat": 4,
  "nbformat_minor": 0,
  "metadata": {
    "colab": {
      "name": "210127_Word2vec.ipynb",
      "provenance": [],
      "authorship_tag": "ABX9TyNPefZNmwAUNZduVzL9h8l+",
      "include_colab_link": true
    },
    "kernelspec": {
      "name": "python3",
      "display_name": "Python 3"
    }
  },
  "cells": [
    {
      "cell_type": "markdown",
      "metadata": {
        "id": "view-in-github",
        "colab_type": "text"
      },
      "source": [
        "<a href=\"https://colab.research.google.com/github/ownit4137/TIL/blob/main/DL%20from%20Scratch/1/210127_Word2vec.ipynb\" target=\"_parent\"><img src=\"https://colab.research.google.com/assets/colab-badge.svg\" alt=\"Open In Colab\"/></a>"
      ]
    },
    {
      "cell_type": "code",
      "metadata": {
        "id": "5CZtrThrNznF"
      },
      "source": [
        "from google.colab import drive \r\n",
        "drive.mount('/content/gdrive/')\r\n",
        "\r\n",
        "%cd /content/gdrive/MyDrive/'Colab Notebooks'/"
      ],
      "execution_count": null,
      "outputs": []
    },
    {
      "cell_type": "markdown",
      "metadata": {
        "id": "2FgmiBKrSKiF"
      },
      "source": [
        "# 추론 기반 기법\r\n",
        "\r\n",
        "- 통계 기반 기법에서는 주변 단어의 빈도를 기초로 단어를 표현함, 말뭉치가 커질수록 계산하는 비용이 매우 커짐\r\n",
        "- 추론 기반 기법은 주변 맥락이 주어졌을 때 target"
      ]
    }
  ]
}
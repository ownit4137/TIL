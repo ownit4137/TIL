{
  "nbformat": 4,
  "nbformat_minor": 0,
  "metadata": {
    "colab": {
      "name": "210123_DeepLearningOverview.ipynb",
      "provenance": [],
      "collapsed_sections": [],
      "authorship_tag": "ABX9TyOKl8x5bic6xILo6UMigbJ2",
      "include_colab_link": true
    },
    "kernelspec": {
      "name": "python3",
      "display_name": "Python 3"
    }
  },
  "cells": [
    {
      "cell_type": "markdown",
      "metadata": {
        "id": "view-in-github",
        "colab_type": "text"
      },
      "source": [
        "<a href=\"https://colab.research.google.com/github/ownit4137/TIL/blob/main/DL%20from%20Scratch/1/%20210123_DeepLearningOverview.ipynb\" target=\"_parent\"><img src=\"https://colab.research.google.com/assets/colab-badge.svg\" alt=\"Open In Colab\"/></a>"
      ]
    },
    {
      "cell_type": "markdown",
      "metadata": {
        "id": "8uYD6y54nNCl"
      },
      "source": [
        "# Optimization\r\n",
        "\r\n",
        "- 완전연결 계층은 같은 일을 수행하는 합성곱 계층으로 대체할 수 있음\r\n",
        "- 입력이 (32x10x10)이고 출력이 (100)일 때, (32x10x10)인 필터를 100개 준비하면 완전히 같은 처리를 할 수 있음\r\n",
        "\r\n",
        "### 심층 신경망\r\n",
        "\r\n",
        "- 층을 깊게 하면 **매개변수의 개수가 줄어듦**\r\n",
        "- 어떤 입력에 7x7 필터를 사용하면 49개의 매개변수가 필요하지만, 3x3 필터 2층을 사용하면 같은 면적을 18개의 매개변수로 처리할 수 있음\r\n",
        "- 활성화 함수가 다수 사용되어 **모델이 비선형성을 띌 수 있게 함**\r\n",
        "- 층이 깊어질 수록 필터가 더 다양하고 복잡한 형상(Blob -> 무늬 -> 사물)에 반응함, **학습의 효율성을 높임**\r\n",
        "\r\n",
        "### GPU 사용\r\n",
        "\r\n",
        "- Nvidia의 Gpu 개발 환경인 CUDA를 사용하는 **cuDNN** 라이브러리\r\n",
        "\r\n",
        "### 비트 줄이기\r\n",
        "\r\n",
        "- 강건한 신경망은 입력에 노이즈가 섞여 있어도 출력 결과가 달라지지 않음\r\n",
        "- 실수를 rough하게 표현하는 16비트 반정밀도 부동 소수점을 사용해도 문제가 없음\r\n",
        "- 가중치와 데이터를 1비트로 표현하는 BNN도 등장"
      ]
    },
    {
      "cell_type": "markdown",
      "metadata": {
        "id": "U8TvPOAVsnd-"
      },
      "source": [
        "# 종류\r\n",
        "\r\n",
        "### VGG\r\n",
        "\r\n",
        "- 합성곱, 풀링 층으로 이루어진 기본적인 CNN\r\n",
        "- 3x3의 작은 필터를 이용한 연속적인 합성곱 층, 풀링 층, 완전 연결 층으로 이루어짐(16 or 19층)\r\n",
        "- 구성이 간단하여 사용에 용이\r\n",
        "\r\n",
        "### GoogLeNet\r\n",
        "\r\n",
        "- 한 층을 여러 가지 종류의 필터로 구성한 **인셉션 구조**가 존재, 층이 가로로도 깊음\r\n",
        "- 한 층에서 크기가 다른 필터와 풀링 층을 여러 개 적용하여 그 결과를 결합함\r\n",
        "- 1x1 필터가 사용하여 채널 쪽으로 크기를 줄여 **매개변수를 줄이고 속도를 높임**\r\n",
        "\r\n",
        "### ResNet(Residual Net)\r\n",
        "\r\n",
        "- 층이 지나치게 깊으면 갈수록 신호의 크기가 작아지는 문제가 발생\r\n",
        "- 합성곱 계층을 지난 입력 데이터(신호가 줄어듦)에다 기존의 입력 데이터(신호가 유지)를 추가로 흘려줌 \r\n",
        "- **층의 깊이에 비례해 성능이 향상됨, 스킵 연결(skip connection)**"
      ]
    },
    {
      "cell_type": "markdown",
      "metadata": {
        "id": "QyryNblYsq8V"
      },
      "source": [
        "# 활용\r\n",
        "\r\n",
        "### R-CNN(Regions with CNN)\r\n",
        "\r\n",
        "- 딥러닝으로 사물을 검출\r\n",
        "- 사물이 위치한 영역을 찾아내고 -> 추출한 각 영역에 CNN을 적용 -> 클래스를 분류함\r\n",
        "- 이미지를 사각형으로 변형하거나 분류할 때 SVM을 사용함\r\n",
        "\r\n",
        "### 분할(Segmentation)\r\n",
        "\r\n",
        "- 이미지를 픽셀 수준에서 분류하는 것\r\n",
        "- 이미지 안에서 사물의 영역 구분을 정확히 그려냄\r\n",
        "- FCN(Fully CN) 기법\r\n",
        "\r\n",
        "### 사진 캡션 생성\r\n",
        "\r\n",
        "- NIC(Neural Image Caption) 모델, CNN과 RNN으로 구성됨\r\n",
        "\r\n",
        "### 이미지 생성\r\n",
        "\r\n",
        "- 생성자가 이미지를 생성하고, 식별자가 이미지를 판단하여 서로 겨루도록 학습시키는 **GAN**을 사용\r\n",
        "\r\n",
        "### 자율주행\r\n",
        "\r\n",
        "- 주변 환경을 인식하는 SegNet을 사용\r\n",
        "\r\n",
        "### 강화학습\r\n",
        "\r\n",
        "- **에이전트**가 **환경**에 맞게 **행동**을 선택하고 더 나은 **보상**을 받는 쪽으로 학습시키는 것\r\n",
        "- DQN(Deep Q-Network)\r\n",
        "\r\n",
        "\r\n"
      ]
    }
  ]
}

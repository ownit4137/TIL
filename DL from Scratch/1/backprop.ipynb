{
  "nbformat": 4,
  "nbformat_minor": 0,
  "metadata": {
    "colab": {
      "name": "backprop",
      "provenance": [],
      "collapsed_sections": [],
      "authorship_tag": "ABX9TyOIWJln/+rgeDvQTYpOPyAA",
      "include_colab_link": true
    },
    "kernelspec": {
      "name": "python3",
      "display_name": "Python 3"
    }
  },
  "cells": [
    {
      "cell_type": "markdown",
      "metadata": {
        "id": "view-in-github",
        "colab_type": "text"
      },
      "source": [
        "<a href=\"https://colab.research.google.com/github/ownit4137/TIL/blob/main/DL%20from%20Scratch/1/backprop.ipynb\" target=\"_parent\"><img src=\"https://colab.research.google.com/assets/colab-badge.svg\" alt=\"Open In Colab\"/></a>"
      ]
    },
    {
      "cell_type": "markdown",
      "metadata": {
        "id": "J0AWat2qlXHE"
      },
      "source": [
        "# Backpropagation\r\n",
        "\r\n",
        "## 개념\r\n",
        "\r\n",
        "### Affine 계층\r\n",
        "\r\n",
        "- 신경망의 순전파 과정에 수행하는 행렬곱을 기하학에서는 affine transformation이라고 함\r\n",
        "- affine변환(행렬 곱)를 수행하는 층을 affine layer이라 함\r\n",
        "\r\n",
        "### ReLU(Rectified Linear Unit)\r\n",
        "\r\n",
        "- activation 함수로 주로 사용됨\r\n",
        "- 대표적으로 sigmoid 함수를 사용해왔으나, VGP 발생(가중치가 옅어짐)\r\n",
        "- `np.maximum(0, x)`\r\n",
        "\r\n",
        "### 역전파\r\n",
        "\r\n",
        "$Y = X \\cdot W + B $ 일때\r\n",
        "\r\n",
        "1. $\\frac{\\partial L}{\\partial W}  = X^T \\cdot \\frac{\\partial L}{\\partial Y} $\r\n",
        "\r\n",
        "2. $\\frac{\\partial L}{\\partial B}  = $ sum(axis 0) of $\\frac{\\partial L}{\\partial Y} $\r\n",
        "\r\n",
        "### Softmax with CEE\r\n",
        "\r\n",
        "- 마치막 출력층에서 사용하는 함수\r\n",
        "- softmax함수의 손실 함수로 CEE를 사용하면 역전파 식이 깔끔하게 나옴\r\n",
        "- 역전파 증명 필요, L -> CEE 역전파 -> softmax 역전파 과정 계산\r\n",
        "- 밑딥1 Appendix A\r\n",
        "\r\n",
        "# 코드\r\n",
        "\r\n"
      ]
    },
    {
      "cell_type": "code",
      "metadata": {
        "colab": {
          "base_uri": "https://localhost:8080/"
        },
        "id": "w3Ghq2fu6rIC",
        "outputId": "5a75bcbb-3043-4bb6-9214-503ab8ad332f"
      },
      "source": [
        "from google.colab import drive \r\n",
        "drive.mount('/content/gdrive/')\r\n",
        "\r\n",
        "%cd /content/gdrive/MyDrive/'Colab Notebooks'/"
      ],
      "execution_count": 3,
      "outputs": [
        {
          "output_type": "stream",
          "text": [
            "Mounted at /content/gdrive/\n",
            "/content/gdrive/MyDrive/Colab Notebooks\n"
          ],
          "name": "stdout"
        }
      ]
    },
    {
      "cell_type": "code",
      "metadata": {
        "id": "Acb98fem7VCu"
      },
      "source": [
        "from dataset.mnist import load_mnist    # 책 코드\r\n",
        "from collections import OrderedDict\r\n",
        "from PIL import Image\r\n",
        "import numpy as np"
      ],
      "execution_count": 4,
      "outputs": []
    },
    {
      "cell_type": "code",
      "metadata": {
        "id": "OeBy3yavjttP"
      },
      "source": [
        "def softmax(x):\r\n",
        "  if x.ndim == 2:\r\n",
        "    x = x.T\r\n",
        "    x = x - np.max(x, axis=0)\r\n",
        "    y = np.exp(x) / np.sum(np.exp(x), axis=0)\r\n",
        "    return y.T \r\n",
        "\r\n",
        "  x = x - np.max(x) # overflow\r\n",
        "  return np.exp(x) / np.sum(np.exp(x))\r\n",
        "\r\n",
        "def cross_entropy_error(y, t):\r\n",
        "  if y.ndim == 1:\r\n",
        "    t = t.reshape(1, t.size)\r\n",
        "    y = y.reshape(1, y.size)\r\n",
        "        \r\n",
        "  # 원핫\r\n",
        "  if t.size == y.size:\r\n",
        "    t = t.argmax(axis=1)\r\n",
        "             \r\n",
        "  batch_size = y.shape[0]\r\n",
        "  return -np.sum(np.log(y[np.arange(batch_size), t] + 1e-7)) / batch_size\r\n",
        "\r\n",
        "\r\n",
        "# activation func\r\n",
        "class Relu:\r\n",
        "  def __init__(self):\r\n",
        "    self.mask = None\r\n",
        "\r\n",
        "  # x값 중 0보다 작은 값은 0으로\r\n",
        "  def forward(self, x):\r\n",
        "    self.mask = (x <= 0)\r\n",
        "    out = x.copy()\r\n",
        "    out[self.mask] = 0\r\n",
        "\r\n",
        "    return out\r\n",
        "\r\n",
        "  def backward(self, dout):\r\n",
        "    dout[self.mask] = 0\r\n",
        "    dx = dout\r\n",
        "\r\n",
        "    return dx\r\n",
        "\r\n",
        "\r\n",
        "# affine layer\r\n",
        "class Affine:\r\n",
        "  def __init__(self, W, b):\r\n",
        "    self.W = W\r\n",
        "    self.b = b\r\n",
        "    \r\n",
        "    self.x = None\r\n",
        "    self.original_x_shape = None\r\n",
        "    # 가중치와 편향 매개변수의 미분\r\n",
        "    self.dW = None\r\n",
        "    self.db = None\r\n",
        "\r\n",
        "  def forward(self, x):\r\n",
        "    # 텐서 대응\r\n",
        "    self.original_x_shape = x.shape\r\n",
        "    x = x.reshape(x.shape[0], -1)\r\n",
        "    self.x = x\r\n",
        "\r\n",
        "    out = np.dot(self.x, self.W) + self.b\r\n",
        "    return out\r\n",
        "\r\n",
        "  # dout을 받아서 각각의 미분값 계산\r\n",
        "  def backward(self, dout):\r\n",
        "    dx = np.dot(dout, self.W.T)\r\n",
        "    self.dW = np.dot(self.x.T, dout)\r\n",
        "    self.db = np.sum(dout, axis=0)\r\n",
        "    \r\n",
        "    dx = dx.reshape(*self.original_x_shape)  # 텐서 대응\r\n",
        "    return dx\r\n",
        "\r\n",
        "\r\n",
        "# softmax with CEE\r\n",
        "class SoftmaxWithLoss:\r\n",
        "  def __init__(self):\r\n",
        "    self.loss = None # 손실함수\r\n",
        "    self.y = None    # softmax의 출력\r\n",
        "    self.t = None    # 정답 레이블(원-핫 인코딩 형태)\r\n",
        "      \r\n",
        "  def forward(self, x, t):\r\n",
        "    self.t = t\r\n",
        "    self.y = softmax(x)\r\n",
        "    self.loss = cross_entropy_error(self.y, self.t)\r\n",
        "    \r\n",
        "    return self.loss\r\n",
        "\r\n",
        "  def backward(self, dout=1):\r\n",
        "    batch_size = self.t.shape[0]\r\n",
        "    if self.t.size == self.y.size: # 원핫\r\n",
        "      dx = (self.y - self.t) / batch_size\r\n",
        "    else:\r\n",
        "      dx = self.y.copy()\r\n",
        "      '''\r\n",
        "      t(정답)이 [2, 5, 7, 6, 3, ...] 이면\r\n",
        "      dx[0, 2]\r\n",
        "      dx[1, 5]\r\n",
        "      dx[2, 7]\r\n",
        "      ...\r\n",
        "      dx[i, t] => i번째 데이터의 t번째 index => 정답이 있어야 하는 index\r\n",
        "      을 만들어냄\r\n",
        "\r\n",
        "      각각 -1 => 원핫 일때 yi - ti를 하는 것과 동일\r\n",
        "      '''\r\n",
        "      dx[np.arange(batch_size), self.t] -= 1\r\n",
        "      dx = dx / batch_size\r\n",
        "    \r\n",
        "    return dx"
      ],
      "execution_count": 5,
      "outputs": []
    },
    {
      "cell_type": "code",
      "metadata": {
        "id": "e1zfl-R67W4l"
      },
      "source": [
        "class backprop_2layer:\r\n",
        "  def __init__(self, input_size, hidden_size, output_size):\r\n",
        "    self.init_div = 0.01\r\n",
        "    self.params = {}\r\n",
        "    self.params['w1'] = self.init_div * np.random.randn(input_size, hidden_size)\r\n",
        "    self.params['w2'] = self.init_div * np.random.randn(hidden_size, output_size)\r\n",
        "    self.params['b1'] = np.zeros(hidden_size)\r\n",
        "    self.params['b2'] = np.zeros(output_size)\r\n",
        "\r\n",
        "    self.layers = OrderedDict()\r\n",
        "    self.layers['Affine1'] = Affine(self.params['w1'], self.params['b1'])\r\n",
        "    self.layers['relu1'] = Relu()\r\n",
        "    self.layers['Affine2'] = Affine(self.params['w2'], self.params['b2'])\r\n",
        "    self.lastLayer = SoftmaxWithLoss()\r\n",
        "\r\n",
        "  def predict(self, x):\r\n",
        "    # 층별로 forward\r\n",
        "    for layer in self.layers.values():\r\n",
        "      x = layer.forward(x)\r\n",
        "    \r\n",
        "    return x\r\n",
        "\r\n",
        "  def loss(self, x, t):\r\n",
        "    y = self.predict(x)\r\n",
        "    return self.lastLayer.forward(y, t)\r\n",
        "\r\n",
        "  def accuracy(self, x, t):\r\n",
        "    y = self.predict(x)\r\n",
        "    y = np.argmax(y, axis=1)\r\n",
        "    if t.ndim != 1:   # one-hot일때\r\n",
        "      t = np.argmax(t, axis=1)\r\n",
        "    \r\n",
        "    accuracy = np.sum(y == t) / float(x.shape[0])\r\n",
        "    return accuracy\r\n",
        "\r\n",
        "  def gradient(self, x, t):\r\n",
        "    self.loss(x, t)\r\n",
        "\r\n",
        "    dout = 1\r\n",
        "    dout = self.lastLayer.backward(dout)\r\n",
        "\r\n",
        "    layers = list(self.layers.values())\r\n",
        "    layers.reverse()\r\n",
        "\r\n",
        "    for layer in layers:\r\n",
        "      dout = layer.backward(dout)\r\n",
        "\r\n",
        "    grads = {}\r\n",
        "    grads['w1'] = self.layers['Affine1'].dW\r\n",
        "    grads['b1'] = self.layers['Affine1'].db\r\n",
        "    grads['w2'] = self.layers['Affine2'].dW\r\n",
        "    grads['b2'] = self.layers['Affine2'].db\r\n",
        "\r\n",
        "    return grads"
      ],
      "execution_count": 13,
      "outputs": []
    },
    {
      "cell_type": "code",
      "metadata": {
        "colab": {
          "base_uri": "https://localhost:8080/"
        },
        "id": "Tarh_H8kvG-u",
        "outputId": "43f22115-2530-4b91-9d11-60aa6c486e58"
      },
      "source": [
        "(x_train, t_train), (x_test, t_test) = load_mnist(normalize=True, one_hot_label=True)\r\n",
        "#x_train = x_train[:1000][:]\r\n",
        "#t_train = t_train[:1000][:]\r\n",
        "\r\n",
        "net = backprop_2layer(input_size=784, hidden_size=50, output_size=10)\r\n",
        "\r\n",
        "iter_total = 10000\r\n",
        "train_size = x_train.shape[0]\r\n",
        "batch_size = 50\r\n",
        "learning_rate = 0.1\r\n",
        "\r\n",
        "train_loss_list = []\r\n",
        "train_acc_list = []\r\n",
        "test_acc_list = []\r\n",
        "\r\n",
        "iter_count = max(train_size / batch_size, 1)\r\n",
        "\r\n",
        "for i in range(iter_total):\r\n",
        "  batch_mask = np.random.choice(train_size, batch_size)\r\n",
        "  x_batch = x_train[batch_mask]\r\n",
        "  t_batch = t_train[batch_mask]\r\n",
        "\r\n",
        "  grad = net.gradient(x_batch, t_batch)\r\n",
        "  \r\n",
        "  for key in('w1', 'b1', 'w2', 'b2'):\r\n",
        "    net.params[key] -= learning_rate * grad[key]\r\n",
        "\r\n",
        "  loss = net.loss(x_batch, t_batch)\r\n",
        "  train_loss_list.append(loss)\r\n",
        "\r\n",
        "  if i % iter_count == 0:\r\n",
        "    train_acc = net.accuracy(x_train, t_train)\r\n",
        "    test_acc = net.accuracy(x_test, t_test)\r\n",
        "    train_acc_list.append(train_acc)\r\n",
        "    test_acc_list.append(test_acc)\r\n",
        "    print(\"iter-\", i, \" train acc : \", train_acc, \" test_acc : \", test_acc)"
      ],
      "execution_count": 14,
      "outputs": [
        {
          "output_type": "stream",
          "text": [
            "iter- 0  train acc :  0.1239  test_acc :  0.1223\n",
            "iter- 1200  train acc :  0.9207666666666666  test_acc :  0.9238\n",
            "iter- 2400  train acc :  0.9435166666666667  test_acc :  0.9444\n",
            "iter- 3600  train acc :  0.9538333333333333  test_acc :  0.9538\n",
            "iter- 4800  train acc :  0.9619  test_acc :  0.9573\n",
            "iter- 6000  train acc :  0.9678  test_acc :  0.9641\n",
            "iter- 7200  train acc :  0.9672833333333334  test_acc :  0.9617\n",
            "iter- 8400  train acc :  0.97505  test_acc :  0.9702\n",
            "iter- 9600  train acc :  0.9772333333333333  test_acc :  0.9691\n"
          ],
          "name": "stdout"
        }
      ]
    },
    {
      "cell_type": "code",
      "metadata": {
        "colab": {
          "base_uri": "https://localhost:8080/",
          "height": 279
        },
        "id": "CiEL1mcew9U0",
        "outputId": "df397010-1aa1-41ed-e21d-6b8d2d05ab09"
      },
      "source": [
        "import matplotlib.pyplot as plt\r\n",
        "plt.plot(train_loss_list)\r\n",
        "\r\n",
        "plt.ylabel('loss')\r\n",
        "plt.xlabel('epoch')\r\n",
        "\r\n",
        "plt.show()"
      ],
      "execution_count": 19,
      "outputs": [
        {
          "output_type": "display_data",
          "data": {
            "image/png": "[encoded data removed]",
            "text/plain": [
              "<Figure size 432x288 with 1 Axes>"
            ]
          },
          "metadata": {
            "tags": [],
            "needs_background": "light"
          }
        }
      ]
    },
    {
      "cell_type": "code",
      "metadata": {
        "colab": {
          "base_uri": "https://localhost:8080/",
          "height": 279
        },
        "id": "OSFUpIpox_k1",
        "outputId": "9268daf6-6624-4923-c69a-742fd82b6268"
      },
      "source": [
        "plt.plot(train_acc_list)\r\n",
        "plt.plot(test_acc_list)\r\n",
        "\r\n",
        "plt.xlabel('epoch')\r\n",
        "plt.legend(['train_acc', 'test_acc'])\r\n",
        "\r\n",
        "plt.show()"
      ],
      "execution_count": 20,
      "outputs": [
        {
          "output_type": "display_data",
          "data": {
            "image/png": "[encoded data removed]",
            "text/plain": [
              "<Figure size 432x288 with 1 Axes>"
            ]
          },
          "metadata": {
            "tags": [],
            "needs_background": "light"
          }
        }
      ]
    }
  ]
}
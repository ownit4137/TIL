{
  "nbformat": 4,
  "nbformat_minor": 0,
  "metadata": {
    "colab": {
      "name": "BatchNormalization",
      "provenance": [],
      "collapsed_sections": [],
      "authorship_tag": "ABX9TyMxh7g9xNzJayu6ev3ZGKTZ",
      "include_colab_link": true
    },
    "kernelspec": {
      "name": "python3",
      "display_name": "Python 3"
    }
  },
  "cells": [
    {
      "cell_type": "markdown",
      "metadata": {
        "id": "view-in-github",
        "colab_type": "text"
      },
      "source": [
        "<a href=\"https://colab.research.google.com/github/ownit4137/TIL/blob/main/DL%20from%20Scratch/1/BatchNormalization.ipynb\" target=\"_parent\"><img src=\"https://colab.research.google.com/assets/colab-badge.svg\" alt=\"Open In Colab\"/></a>"
      ]
    },
    {
      "cell_type": "markdown",
      "metadata": {
        "id": "5-Ftb7k0zyTe"
      },
      "source": [
        "# 배치 정규화\r\n",
        "\r\n",
        "$ \\hat{x_i}  \\leftarrow   \\cfrac{x_i - \\mu_B}{\\sqrt{{\\sigma_B^2} + \\epsilon}} $\r\n",
        "\r\n",
        "$y_i = \\gamma \\hat{x_i} + \\beta$\r\n",
        "\r\n",
        "- [논문](https://arxiv.org/abs/1502.03167)\r\n",
        "- 속도 향상, 초깃값 선택 문제 해결, 과적합 해결등 많은 장점을 가짐\r\n",
        "- 활성화 함수의 앞, 뒤에서 미니배치 단위의 정규화(평균 0, 분산 1)가 일어남\r\n",
        "- 정규화 후 확대와 이동 변환 수행\r\n",
        "- Internal Convarient Shift 문제를 해결\r\n",
        "- [ref](https://eehoeskrap.tistory.com/430)\r\n",
        "- [ref](https://shuuki4.wordpress.com/2016/01/13/batch-normalization-%EC%84%A4%EB%AA%85-%EB%B0%8F-%EA%B5%AC%ED%98%84/)\r\n",
        "- [ref](https://gaussian37.github.io/dl-concept-batchnorm/)\r\n"
      ]
    },
    {
      "cell_type": "code",
      "metadata": {
        "id": "Gjv1vi2hyH7_"
      },
      "source": [
        "class BatchNormalization:\r\n",
        "   \r\n",
        "  def __forward(self, x, train_flg):\r\n",
        "    ...\r\n",
        "\r\n",
        "      # 정규화\r\n",
        "      mu = x.mean(axis=0)\r\n",
        "      xc = x - mu\r\n",
        "      var = np.mean(xc**2, axis=0)\r\n",
        "      std = np.sqrt(var + 10e-7)\r\n",
        "      xn = xc / std\r\n",
        "\r\n",
        "    ... \r\n",
        "        \r\n",
        "    out = self.gamma * xn + self.beta \r\n",
        "    return out\r\n",
        "\r\n",
        "  def __backward(self, dout):\r\n",
        "\r\n",
        "    # 역전파로 각 변수 갱신\r\n",
        "    dbeta = dout.sum(axis=0)\r\n",
        "    dgamma = np.sum(self.xn * dout, axis=0)\r\n",
        "\r\n",
        "    dxn = self.gamma * dout\r\n",
        "    dxc = dxn / self.std\r\n",
        "    dstd = -np.sum((dxn * self.xc) / (self.std * self.std), axis=0)\r\n",
        "    dvar = 0.5 * dstd / self.std\r\n",
        "    dxc += (2.0 / self.batch_size) * self.xc * dvar\r\n",
        "    dmu = np.sum(dxc, axis=0)\r\n",
        "    dx = dxc - dmu / self.batch_size\r\n",
        "    \r\n",
        "    self.dgamma = dgamma\r\n",
        "    self.dbeta = dbeta\r\n",
        "    \r\n",
        "    return dx"
      ],
      "execution_count": null,
      "outputs": []
    }
  ]
}

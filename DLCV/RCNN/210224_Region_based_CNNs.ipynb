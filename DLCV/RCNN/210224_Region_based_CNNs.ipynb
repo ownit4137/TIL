{
  "nbformat": 4,
  "nbformat_minor": 0,
  "metadata": {
    "colab": {
      "name": "210224_RCNN_SPPNet.ipynb",
      "provenance": [],
      "collapsed_sections": [],
      "authorship_tag": "ABX9TyN+4n/CmtC/6bhfmPYXOHXu",
      "include_colab_link": true
    },
    "kernelspec": {
      "name": "python3",
      "display_name": "Python 3"
    }
  },
  "cells": [
    {
      "cell_type": "markdown",
      "metadata": {
        "id": "view-in-github",
        "colab_type": "text"
      },
      "source": [
        "<a href=\"https://colab.research.google.com/github/ownit4137/TIL/blob/main/DLCV/RCNN/210224_Region_based_CNNs.ipynb\" target=\"_parent\"><img src=\"https://colab.research.google.com/assets/colab-badge.svg\" alt=\"Open In Colab\"/></a>"
      ]
    },
    {
      "cell_type": "markdown",
      "metadata": {
        "id": "6FZA-dUCx3cp"
      },
      "source": [
        "## R-CNN\r\n",
        "\r\n",
        "![](https://paperswithcode.com/media/methods/new_splash-method_NaA95zW.jpg)\r\n",
        "\r\n",
        "- Regions with CNN Features, is an object detection model that uses high-capacity CNNs to bottom-up region proposals in order to localize and segment objects.\r\n",
        "\r\n",
        "### 학습 과정\r\n",
        "\r\n",
        "- region proposal로 object 후보 추출(2000개)\r\n",
        "- 각각 region의 사이즈를 조절해서 CNN 통과(연산량 매우 많음)\r\n",
        "- 각각을 분류"
      ]
    },
    {
      "cell_type": "markdown",
      "metadata": {
        "id": "Wms9AZOt5dgq"
      },
      "source": [
        "## SPPNet\r\n",
        "\r\n",
        "### SPP\r\n",
        "\r\n",
        "![](https://miro.medium.com/max/438/1*qkWGONIVKO1xyJZD6urYag.png)\r\n",
        "\r\n",
        "- feature map을 여러 가지 개수로 분할해서 부분별로의 feature을 정해진 길이의 벡터로 저장\r\n",
        "\r\n",
        "### SPPNet\r\n",
        "\r\n",
        "- 입력 사진의 selective search와 feature map 추출을 동시에 진행\r\n",
        "- feature map에 selective search한 결과를 매핑\r\n",
        "- 매핑된 feature들을 SPP에 통과시켜 정해진 길이의 vector로 변환\r\n",
        "- FC를 통과시켜 학습, Bounding box regression을 진행\r\n",
        "\r\n"
      ]
    },
    {
      "cell_type": "markdown",
      "metadata": {
        "id": "VWC5UUueEpUV"
      },
      "source": [
        "## Fast RCNN\r\n",
        "\r\n",
        "![](https://miro.medium.com/max/1000/1*wgu20kFzdnRuivIwIKf_mQ.png)\r\n",
        "\r\n",
        "- SPP에서 하나의 층에서만 Pooling을 진행하는 RoI Pooling을 진행\r\n",
        "- RoI Pooling을 진행한 후에 Classification과 Regression을 동시에 진행\r\n",
        "- Backprop이 가능하기 때문에 end-to-end 구조\r\n",
        "- Classification과 Regression에서의 Loss를 처리하는 Multi-task Loss가 사용됨"
      ]
    },
    {
      "cell_type": "markdown",
      "metadata": {
        "id": "80PCrP4JSzmu"
      },
      "source": [
        "## Faster RCNN\r\n",
        "\r\n",
        "![](https://miro.medium.com/max/700/1*Fg7DVdvF449PfX5Fd6oOYA.png)\r\n",
        "\r\n",
        "- RPN + RCNN\r\n",
        "- RPN과 RoI-NN을 따로 학습시키고 서로를 Fine Tuning\r\n",
        "\r\n",
        "### RPN\r\n",
        "\r\n",
        "![](https://tryolabs.com/blog/images/blog/post-images/2018-01-18-faster-rcnn/anchors-progress.119e1e92.png)\r\n",
        "\r\n",
        "- 9가지 종류의 Anchor Box을 사용해 feature map을 만듦\r\n",
        "- Ground Truth와 겹치는 IoU(>0.7)값에 따라 Positive/Negative Anchor로 Classification 수행\r\n",
        "- Positive Anchor을 기준으로 BBox Regression 수행\r\n",
        "- Objectness score(obj일 확률 * IoU)에 따라 region proposal\r\n",
        "\r\n"
      ]
    }
  ]
}
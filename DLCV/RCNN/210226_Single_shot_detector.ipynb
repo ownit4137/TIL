{
  "nbformat": 4,
  "nbformat_minor": 0,
  "metadata": {
    "colab": {
      "name": "210226_Single_shot_detector",
      "provenance": [],
      "collapsed_sections": [],
      "authorship_tag": "ABX9TyPpCG96P0PPKCMau1D1qb3L",
      "include_colab_link": true
    },
    "kernelspec": {
      "name": "python3",
      "display_name": "Python 3"
    }
  },
  "cells": [
    {
      "cell_type": "markdown",
      "metadata": {
        "id": "view-in-github",
        "colab_type": "text"
      },
      "source": [
        "<a href=\"https://colab.research.google.com/github/ownit4137/TIL/blob/main/DLCV/RCNN/210226_Single_shot_detector.ipynb\" target=\"_parent\"><img src=\"https://colab.research.google.com/assets/colab-badge.svg\" alt=\"Open In Colab\"/></a>"
      ]
    },
    {
      "cell_type": "markdown",
      "metadata": {
        "id": "12ONDfWEDe3V"
      },
      "source": [
        "## OD history\r\n",
        "\r\n",
        "![](https://jaehyeongan.github.io/image/object-detection-history.png)\r\n",
        "\r\n",
        "### One-stage detector\r\n",
        "\r\n",
        "- Region Proposal과 Object Detect를 한번에 수행함\r\n",
        "- 수행 속도가 빠름\r\n",
        "- SSD, YOLO v3, Retina-Net\r\n",
        "\r\n",
        "\r\n",
        "### Two-stage detector\r\n",
        "\r\n",
        "- Region Proposal을 수행하고 Object Detect를 수행함\r\n",
        "- 실시간으로 이미지를 처리하는데 어려움이 있음\r\n",
        "- RCNN, SPPNet, Fast-RCNN, Faster-RCNN"
      ]
    },
    {
      "cell_type": "markdown",
      "metadata": {
        "id": "kfxuIQx5FpKv"
      },
      "source": [
        "## Single Shot Detector\r\n",
        "\r\n",
        "![](https://manalelaidouni.github.io/assets/img/pexels/Image.png)\r\n",
        "![](https://user-images.githubusercontent.com/24144491/48844100-48840600-eddc-11e8-9e93-582606d66708.png)\r\n",
        "\r\n",
        "- 각각 feature map에 anchor box를 convolution한 값을 추출\r\n",
        "- output은 object의 softmax값 + 좌표값\r\n",
        "- 각 값을 오차 역전파하며 update"
      ]
    }
  ]
}
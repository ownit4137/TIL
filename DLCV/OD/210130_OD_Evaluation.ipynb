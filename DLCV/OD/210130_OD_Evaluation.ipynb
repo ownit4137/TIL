{
  "nbformat": 4,
  "nbformat_minor": 0,
  "metadata": {
    "colab": {
      "name": "210130_OD_Evaluation",
      "provenance": [],
      "collapsed_sections": [],
      "authorship_tag": "ABX9TyOKniL00HHrKbgof1xurVnB",
      "include_colab_link": true
    },
    "kernelspec": {
      "name": "python3",
      "display_name": "Python 3"
    }
  },
  "cells": [
    {
      "cell_type": "markdown",
      "metadata": {
        "id": "view-in-github",
        "colab_type": "text"
      },
      "source": [
        "<a href=\"https://colab.research.google.com/github/ownit4137/TIL/blob/main/DLCV/OD/210130_OD_Evaluation.ipynb\" target=\"_parent\"><img src=\"https://colab.research.google.com/assets/colab-badge.svg\" alt=\"Open In Colab\"/></a>"
      ]
    },
    {
      "cell_type": "markdown",
      "metadata": {
        "id": "knv20laTkV1I"
      },
      "source": [
        "## NMS(Non Max Suppression)\r\n",
        "\r\n",
        "- max가 아니면 suppress\r\n",
        "- OD 알고리즘은 obj가 있을 만한 위치에 detection을 대량으로 수행함\r\n",
        "- 비슷한 box를 제거하고 적합한 box를 선택하는 기법\r\n",
        "\r\n",
        "### logic\r\n",
        "\r\n",
        "- confidence threshold를 정해 그보다 낮은 bounding box들은 먼저 제거\r\n",
        "- conf score에 따라 내림차순 정렬\r\n",
        "- 정렬된 순서대로 높은 conf score을 가진 box와 다른 box의 IOU를 구하고 IOU threshold보다 높으면 제거\r\n",
        "- 남아 있는 box를 선택\r\n",
        "- **conf th가 높을수록, IOU th가 낮을수록 많이 제거됨**\r\n",
        "\r\n"
      ]
    },
    {
      "cell_type": "markdown",
      "metadata": {
        "id": "QxohT4G3mHyh"
      },
      "source": [
        "## Precision & Recall\r\n",
        "\r\n",
        "- [Evaluation](https://ownit4137.github.io/machinelearning/conc_eval01/)\r\n",
        "- conf th가 낮으면 recall 높아지고 precision 낮아짐\r\n",
        "- conf th가 높으면 recall 낮아지고 precision 높아짐\r\n",
        "\r\n",
        "\r\n",
        "## mAP(mean Average Precision)\r\n",
        "\r\n",
        "- Precision-Recall Curve의 밑넓이가 AP, 한 개의 obj, 크면 성능이 좋음\r\n",
        "- mAP는 여러 AP를 평균한 값\r\n",
        "- COCO Challenge에서는 다양한 IOU별로 mAP를 계산하여야 함"
      ]
    }
  ]
}